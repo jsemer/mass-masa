{
 "cells": [
  {
   "cell_type": "markdown",
   "metadata": {},
   "source": [
    "## ASPLOS'21 MASA: Matching by Research Area + Random"
   ]
  },
  {
   "cell_type": "code",
   "execution_count": null,
   "metadata": {
    "scrolled": true
   },
   "outputs": [],
   "source": [
    "debug = False\n",
    "import pandas\n",
    "import numpy as np\n",
    "from IPython.display import display, HTML\n",
    "pandas.set_option('display.max_columns', None)  # or 1000\n",
    "pandas.set_option('display.max_rows', None)  # or 1000\n",
    "#pandas.set_option('display.max_colwidth', None)  # or 199\n",
    "\n",
    "\n",
    "## Datafiles\n",
    "mentors_datafile = \"mentors_final_uploaded.csv\" \n",
    "\n",
    "## Read Dataframe\n",
    "mentors_df = pandas.read_csv(mentors_datafile) \n",
    "mentors_df = mentors_df.replace(np.nan, '', regex=True)\n",
    "\n",
    "## Filter Mentors With Alllocated Mentees \n",
    "mentors_df = mentors_df[mentors_df[\"MenteeAllocated\"] == True]\n",
    "#display(mentors_df)\n",
    "\n",
    "## Merge Multiple Entries for A Single Mentor\n",
    "mentors_dedup_df = mentors_df\n",
    "mentors_dedup_groupby = mentors_dedup_df.groupby(['FirstName','LastName','Email',\n",
    "                                                  'Affiliation', 'SeniorResearcher/Student',\n",
    "                                                  'MentorSignup','NumMentees','AffiliationType',\n",
    "                                                  'ResearchArea','MenteeSignup'])\n",
    "mentors_dedup_menteename  = mentors_dedup_groupby['MenteeName'].apply(';'.join).reset_index()\n",
    "mentors_dedup_menteeemail = mentors_dedup_groupby['MenteeEmail'].apply(';'.join).reset_index()\n",
    "mentors_dedup_menteeaff   = mentors_dedup_groupby['MenteeAffiliation'].apply(';'.join).reset_index()\n",
    "\n",
    "## Merge all three dedup dataframes into single dataframe.\n",
    "mentors_dedup_df = pandas.concat([mentors_dedup_menteename, mentors_dedup_menteeemail['MenteeEmail'],\n",
    "                              mentors_dedup_menteeaff['MenteeAffiliation']], axis=1)\n",
    "\n",
    "## Split MenteeName, Email, Aff into separate columns (1 per mentee)   \n",
    "mentors_dedup_df[[\"MenteeName1\", \"MenteeName2\", \"MenteeName3\"]] = mentors_dedup_df[\"MenteeName\"].str.split(pat=\";\", expand=True)\n",
    "mentors_dedup_df[[\"MenteeEmail1\", \"MenteeEmail2\", \"MenteeEmail3\"]] = mentors_dedup_df[\"MenteeEmail\"].str.split(pat=\";\", expand=True)\n",
    "mentors_dedup_df[[\"MenteeAffiliation1\", \"MenteeAffiliation2\", \"MenteeAffiliation3\"]] = mentors_dedup_df[\"MenteeAffiliation\"].str.split(pat=\";\", expand=True)\n",
    "\n",
    "mentors_dedup_df = mentors_dedup_df[['FirstName','LastName','Email',\n",
    "                                    'Affiliation', 'SeniorResearcher/Student',\n",
    "                                    'MentorSignup','NumMentees','AffiliationType',\n",
    "                                    'ResearchArea','MenteeSignup',\n",
    "                                    \"MenteeName1\",\"MenteeEmail1\",\"MenteeAffiliation1\",\n",
    "                                    \"MenteeName2\",\"MenteeEmail2\",\"MenteeAffiliation2\",\n",
    "                                    \"MenteeName3\",\"MenteeEmail3\",\"MenteeAffiliation3\"]]\n",
    "\n",
    "## Print Sanity Check\n",
    "print(\"Original Mentee Count: \"+str((~mentors_dedup_df['MenteeEmail1'].isnull()).sum() + (~mentors_dedup_df['MenteeEmail2'].isnull()).sum() + (~mentors_dedup_df['MenteeEmail3'].isnull()).sum())) \n",
    "print(\"Deduplicated Mentee Count: \"+ str((~mentors_df['MenteeEmail'].isnull()).sum()))\n",
    "\n",
    "## Split 1-Mentee, 2-Mentee and 3-Mentee\n",
    "mentors_dedup_1mentee_df = mentors_dedup_df[~mentors_dedup_df['MenteeEmail1'].isnull() &\n",
    "                                            mentors_dedup_df['MenteeEmail2'].isnull()  &\n",
    "                                            mentors_dedup_df['MenteeEmail3'].isnull()]\n",
    "mentors_dedup_2mentee_df = mentors_dedup_df[~mentors_dedup_df['MenteeEmail1'].isnull() &\n",
    "                                            ~mentors_dedup_df['MenteeEmail2'].isnull() &\n",
    "                                            mentors_dedup_df['MenteeEmail3'].isnull()]\n",
    "mentors_dedup_3mentee_df = mentors_dedup_df[~mentors_dedup_df['MenteeEmail1'].isnull() &\n",
    "                                            ~mentors_dedup_df['MenteeEmail2'].isnull() &\n",
    "                                            ~mentors_dedup_df['MenteeEmail3'].isnull()]\n",
    "\n",
    "## Dump csv files for mentors_replicated_df and mentees_df \n",
    "mentors_dedup_1mentee_df.to_csv('mailmerge_masa_mentors1.csv', index=False)\n",
    "mentors_dedup_2mentee_df.to_csv('mailmerge_masa_mentors2.csv', index=False)\n",
    "mentors_dedup_3mentee_df.to_csv('mailmerge_masa_mentors3.csv', index=False)\n",
    "\n",
    "#display(mentors_dedup_df)\n",
    "#display(mentors_df)\n",
    "display(mentors_dedup_1mentee_df)\n",
    "display(mentors_dedup_2mentee_df)\n",
    "display(mentors_dedup_3mentee_df)\n"
   ]
  }
 ],
 "metadata": {
  "kernelspec": {
   "display_name": "Python 3",
   "language": "python",
   "name": "python3"
  },
  "language_info": {
   "codemirror_mode": {
    "name": "ipython",
    "version": 3
   },
   "file_extension": ".py",
   "mimetype": "text/x-python",
   "name": "python",
   "nbconvert_exporter": "python",
   "pygments_lexer": "ipython3",
   "version": "3.8.3"
  }
 },
 "nbformat": 4,
 "nbformat_minor": 4
}
